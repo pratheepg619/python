{
 "cells": [
  {
   "cell_type": "code",
   "execution_count": 6,
   "metadata": {},
   "outputs": [
    {
     "name": "stdout",
     "output_type": "stream",
     "text": [
      "Enter a phrase: who are you\n",
      "whg grg ygg\n"
     ]
    }
   ],
   "source": [
    "###Program to convert all vowels(a,e,i,o,u) in a phrase into 'g'\n",
    "def translate(phrase):\n",
    "    translation=\"\"\n",
    "    for i in phrase:\n",
    "        if i in \"AEIOUaeiou\":\n",
    "            translation=translation+\"g\"\n",
    "        else:\n",
    "            translation=translation+i\n",
    "    return(translation)\n",
    "print(translate(input(\"Enter a phrase: \")))\n"
   ]
  },
  {
   "cell_type": "code",
   "execution_count": 10,
   "metadata": {},
   "outputs": [
    {
     "name": "stdout",
     "output_type": "stream",
     "text": [
      "Enter a phrase: Who Are You\n",
      "Whg Grg Ygg\n"
     ]
    }
   ],
   "source": [
    "###Same objective as above; additional requirement is to print uppercase as its associate uppercase\n",
    "def translate(phrase):\n",
    "    translation=\"\"\n",
    "    for i in phrase:\n",
    "        if i in \"AEIOUaeiou\":\n",
    "            if i.isupper():\n",
    "                translation=translation+\"G\"\n",
    "            else:\n",
    "                translation=translation+\"g\"\n",
    "        else:\n",
    "            translation=translation+i\n",
    "    return(translation)\n",
    "print(translate(input(\"Enter a phrase: \")))\n"
   ]
  },
  {
   "cell_type": "code",
   "execution_count": null,
   "metadata": {},
   "outputs": [],
   "source": []
  }
 ],
 "metadata": {
  "kernelspec": {
   "display_name": "Python 3",
   "language": "python",
   "name": "python3"
  },
  "language_info": {
   "codemirror_mode": {
    "name": "ipython",
    "version": 3
   },
   "file_extension": ".py",
   "mimetype": "text/x-python",
   "name": "python",
   "nbconvert_exporter": "python",
   "pygments_lexer": "ipython3",
   "version": "3.7.4"
  }
 },
 "nbformat": 4,
 "nbformat_minor": 2
}
