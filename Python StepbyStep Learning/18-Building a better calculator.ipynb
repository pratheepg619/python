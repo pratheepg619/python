{
 "cells": [
  {
   "cell_type": "code",
   "execution_count": 6,
   "metadata": {},
   "outputs": [
    {
     "name": "stdout",
     "output_type": "stream",
     "text": [
      "Enter the first number: 34\n",
      "Enter the operator: /\n",
      "Enter the second number: 2\n",
      "17.0\n"
     ]
    }
   ],
   "source": [
    "num1=float(input(\"Enter the first number: \"))\n",
    "op=input(\"Enter the operator: \")\n",
    "num2=float(input(\"Enter the second number: \"))\n",
    "if op == \"+\":\n",
    "    print(num1+num2)\n",
    "elif op == \"-\":\n",
    "    print(num1-num2)\n",
    "elif op==\"*\":\n",
    "    print(num1*num2)\n",
    "elif op==\"/\":\n",
    "    print(num1/num2)\n",
    "else:\n",
    "    print(\"Invalid operator\")\n",
    "    "
   ]
  },
  {
   "cell_type": "code",
   "execution_count": null,
   "metadata": {},
   "outputs": [],
   "source": []
  }
 ],
 "metadata": {
  "kernelspec": {
   "display_name": "Python 3",
   "language": "python",
   "name": "python3"
  },
  "language_info": {
   "codemirror_mode": {
    "name": "ipython",
    "version": 3
   },
   "file_extension": ".py",
   "mimetype": "text/x-python",
   "name": "python",
   "nbconvert_exporter": "python",
   "pygments_lexer": "ipython3",
   "version": "3.7.4"
  }
 },
 "nbformat": 4,
 "nbformat_minor": 2
}
