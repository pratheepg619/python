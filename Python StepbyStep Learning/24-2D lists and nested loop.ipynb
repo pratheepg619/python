{
 "cells": [
  {
   "cell_type": "code",
   "execution_count": 6,
   "metadata": {},
   "outputs": [
    {
     "name": "stdout",
     "output_type": "stream",
     "text": [
      "30\n",
      "40\n",
      "91\n"
     ]
    }
   ],
   "source": [
    "sample = [\n",
    "    [30,40,50],\n",
    "    [60,70,80],\n",
    "    [90,91,92],\n",
    "    [99]\n",
    "]\n",
    "print(sample[0][0])\n",
    "print(sample[0][1])\n",
    "print(sample[2][1])"
   ]
  },
  {
   "cell_type": "code",
   "execution_count": 7,
   "metadata": {},
   "outputs": [
    {
     "name": "stdout",
     "output_type": "stream",
     "text": [
      "[30, 40, 50]\n",
      "[60, 70, 80]\n",
      "[90, 91, 92]\n",
      "[99]\n"
     ]
    }
   ],
   "source": [
    "sample = [\n",
    "    [30,40,50],\n",
    "    [60,70,80],\n",
    "    [90,91,92],\n",
    "    [99]\n",
    "]\n",
    "for i in sample:\n",
    "    print(i)"
   ]
  },
  {
   "cell_type": "code",
   "execution_count": 8,
   "metadata": {},
   "outputs": [
    {
     "name": "stdout",
     "output_type": "stream",
     "text": [
      "30\n",
      "40\n",
      "50\n",
      "60\n",
      "70\n",
      "80\n",
      "90\n",
      "91\n",
      "92\n",
      "99\n"
     ]
    }
   ],
   "source": [
    "sample = [\n",
    "    [30,40,50],\n",
    "    [60,70,80],\n",
    "    [90,91,92],\n",
    "    [99]\n",
    "]\n",
    "for i in sample:\n",
    "    for j in i:\n",
    "        print(j)\n"
   ]
  },
  {
   "cell_type": "code",
   "execution_count": null,
   "metadata": {},
   "outputs": [],
   "source": []
  }
 ],
 "metadata": {
  "kernelspec": {
   "display_name": "Python 3",
   "language": "python",
   "name": "python3"
  },
  "language_info": {
   "codemirror_mode": {
    "name": "ipython",
    "version": 3
   },
   "file_extension": ".py",
   "mimetype": "text/x-python",
   "name": "python",
   "nbconvert_exporter": "python",
   "pygments_lexer": "ipython3",
   "version": "3.7.4"
  }
 },
 "nbformat": 4,
 "nbformat_minor": 2
}
