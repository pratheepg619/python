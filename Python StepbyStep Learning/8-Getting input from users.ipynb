{
 "cells": [
  {
   "cell_type": "code",
   "execution_count": 2,
   "metadata": {},
   "outputs": [
    {
     "name": "stdout",
     "output_type": "stream",
     "text": [
      "Enter your name: Pratheep\n",
      "Hello Pratheep!!\n"
     ]
    }
   ],
   "source": [
    "name=input(\"Enter your name: \")\n",
    "print(\"Hello \" + name + \"!!\")"
   ]
  },
  {
   "cell_type": "code",
   "execution_count": 5,
   "metadata": {},
   "outputs": [
    {
     "name": "stdout",
     "output_type": "stream",
     "text": [
      "Enter your name: Pratheep\n",
      "Enter your age: 29\n",
      "Hello Pratheep!! Your are 29 years old!\n"
     ]
    }
   ],
   "source": [
    "name=input(\"Enter your name: \")\n",
    "age=input(\"Enter your age: \")\n",
    "print(\"Hello \" + name + \"!! Your are \" + age + \" years old!\")"
   ]
  },
  {
   "cell_type": "code",
   "execution_count": null,
   "metadata": {},
   "outputs": [],
   "source": []
  }
 ],
 "metadata": {
  "kernelspec": {
   "display_name": "Python 3",
   "language": "python",
   "name": "python3"
  },
  "language_info": {
   "codemirror_mode": {
    "name": "ipython",
    "version": 3
   },
   "file_extension": ".py",
   "mimetype": "text/x-python",
   "name": "python",
   "nbconvert_exporter": "python",
   "pygments_lexer": "ipython3",
   "version": "3.7.4"
  }
 },
 "nbformat": 4,
 "nbformat_minor": 2
}
