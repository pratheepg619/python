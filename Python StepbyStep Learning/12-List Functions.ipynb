{
 "cells": [
  {
   "cell_type": "code",
   "execution_count": 1,
   "metadata": {},
   "outputs": [
    {
     "name": "stdout",
     "output_type": "stream",
     "text": [
      "['Lion', 'Tiger', 'Hipo', 'Monkey', 'Giraffe']\n"
     ]
    }
   ],
   "source": [
    "animals = [\"Lion\", \"Tiger\", \"Hipo\", \"Monkey\", \"Giraffe\"]\n",
    "print(animals)"
   ]
  },
  {
   "cell_type": "code",
   "execution_count": 4,
   "metadata": {},
   "outputs": [
    {
     "name": "stdout",
     "output_type": "stream",
     "text": [
      "['Lion', 'Tiger', 'Hipo', 'Monkey', 'Giraffe']\n",
      "['Lion', 'Tiger', 'Hipo', 'Monkey', 'Giraffe', 2, 8, 4, 6, 1]\n"
     ]
    }
   ],
   "source": [
    "animals = [\"Lion\", \"Tiger\", \"Hipo\", \"Monkey\", \"Giraffe\"]\n",
    "numbers = [2, 8, 4, 6, 1]\n",
    "print(animals)\n",
    "animals.extend(numbers)\n",
    "print(animals)"
   ]
  },
  {
   "cell_type": "code",
   "execution_count": 5,
   "metadata": {},
   "outputs": [
    {
     "name": "stdout",
     "output_type": "stream",
     "text": [
      "['Lion', 'Tiger', 'Hipo', 'Monkey', 'Giraffe', 'Rhino']\n"
     ]
    }
   ],
   "source": [
    "animals = [\"Lion\", \"Tiger\", \"Hipo\", \"Monkey\", \"Giraffe\"]\n",
    "animals.append(\"Rhino\")\n",
    "print(animals)"
   ]
  },
  {
   "cell_type": "code",
   "execution_count": 6,
   "metadata": {},
   "outputs": [
    {
     "name": "stdout",
     "output_type": "stream",
     "text": [
      "['Lion', 'Rhino', 'Tiger', 'Hipo', 'Monkey', 'Giraffe']\n"
     ]
    }
   ],
   "source": [
    "animals = [\"Lion\", \"Tiger\", \"Hipo\", \"Monkey\", \"Giraffe\"]\n",
    "animals.insert(1, \"Rhino\")\n",
    "print(animals)"
   ]
  },
  {
   "cell_type": "code",
   "execution_count": 7,
   "metadata": {},
   "outputs": [
    {
     "name": "stdout",
     "output_type": "stream",
     "text": [
      "['Lion', 'Tiger', 'Monkey', 'Giraffe']\n"
     ]
    }
   ],
   "source": [
    "animals = [\"Lion\", \"Tiger\", \"Hipo\", \"Monkey\", \"Giraffe\"]\n",
    "animals.remove(\"Hipo\")\n",
    "print(animals)"
   ]
  },
  {
   "cell_type": "code",
   "execution_count": 9,
   "metadata": {},
   "outputs": [
    {
     "name": "stdout",
     "output_type": "stream",
     "text": [
      "[]\n"
     ]
    }
   ],
   "source": [
    "animals = [\"Lion\", \"Tiger\", \"Hipo\", \"Monkey\", \"Giraffe\"]\n",
    "animals.clear()\n",
    "print(animals)"
   ]
  },
  {
   "cell_type": "code",
   "execution_count": 10,
   "metadata": {},
   "outputs": [
    {
     "name": "stdout",
     "output_type": "stream",
     "text": [
      "['Lion', 'Tiger', 'Hipo', 'Monkey']\n"
     ]
    }
   ],
   "source": [
    "animals = [\"Lion\", \"Tiger\", \"Hipo\", \"Monkey\", \"Giraffe\"]\n",
    "animals.pop()\n",
    "print(animals)"
   ]
  },
  {
   "cell_type": "code",
   "execution_count": 15,
   "metadata": {},
   "outputs": [
    {
     "name": "stdout",
     "output_type": "stream",
     "text": [
      "0\n"
     ]
    }
   ],
   "source": [
    "animals = [\"Lion\", \"Tiger\", \"Hipo\", \"Monkey\", \"Giraffe\"]\n",
    "print(animals.index(\"Lion\"))"
   ]
  },
  {
   "cell_type": "code",
   "execution_count": 16,
   "metadata": {},
   "outputs": [
    {
     "ename": "ValueError",
     "evalue": "'Dog' is not in list",
     "output_type": "error",
     "traceback": [
      "\u001b[1;31m---------------------------------------------------------------------------\u001b[0m",
      "\u001b[1;31mValueError\u001b[0m                                Traceback (most recent call last)",
      "\u001b[1;32m<ipython-input-16-89dd0cc5a0de>\u001b[0m in \u001b[0;36m<module>\u001b[1;34m\u001b[0m\n\u001b[0;32m      1\u001b[0m \u001b[0manimals\u001b[0m \u001b[1;33m=\u001b[0m \u001b[1;33m[\u001b[0m\u001b[1;34m\"Lion\"\u001b[0m\u001b[1;33m,\u001b[0m \u001b[1;34m\"Tiger\"\u001b[0m\u001b[1;33m,\u001b[0m \u001b[1;34m\"Hipo\"\u001b[0m\u001b[1;33m,\u001b[0m \u001b[1;34m\"Monkey\"\u001b[0m\u001b[1;33m,\u001b[0m \u001b[1;34m\"Giraffe\"\u001b[0m\u001b[1;33m]\u001b[0m\u001b[1;33m\u001b[0m\u001b[1;33m\u001b[0m\u001b[0m\n\u001b[1;32m----> 2\u001b[1;33m \u001b[0mprint\u001b[0m\u001b[1;33m(\u001b[0m\u001b[0manimals\u001b[0m\u001b[1;33m.\u001b[0m\u001b[0mindex\u001b[0m\u001b[1;33m(\u001b[0m\u001b[1;34m\"Dog\"\u001b[0m\u001b[1;33m)\u001b[0m\u001b[1;33m)\u001b[0m\u001b[1;33m\u001b[0m\u001b[1;33m\u001b[0m\u001b[0m\n\u001b[0m",
      "\u001b[1;31mValueError\u001b[0m: 'Dog' is not in list"
     ]
    }
   ],
   "source": [
    "animals = [\"Lion\", \"Tiger\", \"Hipo\", \"Monkey\", \"Giraffe\"]\n",
    "print(animals.index(\"Dog\"))"
   ]
  },
  {
   "cell_type": "code",
   "execution_count": 18,
   "metadata": {},
   "outputs": [
    {
     "name": "stdout",
     "output_type": "stream",
     "text": [
      "['Giraffe', 'Hipo', 'Lion', 'Monkey', 'Tiger']\n"
     ]
    }
   ],
   "source": [
    "animals = [\"Lion\", \"Tiger\", \"Hipo\", \"Monkey\", \"Giraffe\"]\n",
    "animals.sort()\n",
    "print(animals)"
   ]
  },
  {
   "cell_type": "code",
   "execution_count": 19,
   "metadata": {},
   "outputs": [
    {
     "name": "stdout",
     "output_type": "stream",
     "text": [
      "[1, 2, 4, 6, 8]\n"
     ]
    }
   ],
   "source": [
    "numbers = [2, 8, 4, 6, 1]\n",
    "numbers.sort()\n",
    "print(numbers)"
   ]
  },
  {
   "cell_type": "code",
   "execution_count": 20,
   "metadata": {},
   "outputs": [
    {
     "name": "stdout",
     "output_type": "stream",
     "text": [
      "[1, 6, 4, 8, 2]\n"
     ]
    }
   ],
   "source": [
    "numbers = [2, 8, 4, 6, 1]\n",
    "numbers.reverse()\n",
    "print(numbers)"
   ]
  },
  {
   "cell_type": "code",
   "execution_count": 21,
   "metadata": {},
   "outputs": [
    {
     "name": "stdout",
     "output_type": "stream",
     "text": [
      "[2, 8, 4, 6, 1]\n"
     ]
    }
   ],
   "source": [
    "numbers = [2, 8, 4, 6, 1]\n",
    "numbers2 = numbers.copy()\n",
    "print(numbers2)"
   ]
  },
  {
   "cell_type": "code",
   "execution_count": null,
   "metadata": {},
   "outputs": [],
   "source": []
  }
 ],
 "metadata": {
  "kernelspec": {
   "display_name": "Python 3",
   "language": "python",
   "name": "python3"
  },
  "language_info": {
   "codemirror_mode": {
    "name": "ipython",
    "version": 3
   },
   "file_extension": ".py",
   "mimetype": "text/x-python",
   "name": "python",
   "nbconvert_exporter": "python",
   "pygments_lexer": "ipython3",
   "version": "3.7.4"
  }
 },
 "nbformat": 4,
 "nbformat_minor": 2
}
