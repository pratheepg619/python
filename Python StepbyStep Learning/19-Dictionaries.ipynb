{
 "cells": [
  {
   "cell_type": "code",
   "execution_count": 6,
   "metadata": {},
   "outputs": [
    {
     "name": "stdout",
     "output_type": "stream",
     "text": [
      "January\n",
      "Monday\n",
      "February\n",
      "None\n",
      "Invalid Key\n"
     ]
    }
   ],
   "source": [
    "month_conversions = {\n",
    "    \"Jan\":\"January\",\n",
    "    \"Feb\":\"February\",\n",
    "    \"Mar\":\"March\",\n",
    "    0:\"Sunday\",\n",
    "    1:\"Monday\",\n",
    "    2:\"Tuesday\"\n",
    "}\n",
    "\n",
    "print(month_conversions[\"Jan\"])\n",
    "print(month_conversions[1])\n",
    "print(month_conversions.get(\"Feb\"))\n",
    "print(month_conversions.get(\"blahblahblah\"))\n",
    "print(month_conversions.get(\"blahblahblah\",\"Invalid Key\"))"
   ]
  },
  {
   "cell_type": "code",
   "execution_count": null,
   "metadata": {},
   "outputs": [],
   "source": []
  }
 ],
 "metadata": {
  "kernelspec": {
   "display_name": "Python 3",
   "language": "python",
   "name": "python3"
  },
  "language_info": {
   "codemirror_mode": {
    "name": "ipython",
    "version": 3
   },
   "file_extension": ".py",
   "mimetype": "text/x-python",
   "name": "python",
   "nbconvert_exporter": "python",
   "pygments_lexer": "ipython3",
   "version": "3.7.4"
  }
 },
 "nbformat": 4,
 "nbformat_minor": 2
}
