{
 "cells": [
  {
   "cell_type": "code",
   "execution_count": 2,
   "metadata": {},
   "outputs": [
    {
     "name": "stdout",
     "output_type": "stream",
     "text": [
      "Guess the secret animal: dog\n",
      "Guess the secret animal: cat\n",
      "Guess the secret animal: goat\n",
      "Guess the secret animal: cow\n",
      "You win!!\n"
     ]
    }
   ],
   "source": [
    "secret_animal = \"cow\"\n",
    "guess=\"\"\n",
    "while guess!=secret_animal:\n",
    "    guess=input(\"Guess the secret animal: \")\n",
    "\n",
    "print(\"You win!!\")"
   ]
  },
  {
   "cell_type": "code",
   "execution_count": 7,
   "metadata": {},
   "outputs": [
    {
     "name": "stdout",
     "output_type": "stream",
     "text": [
      "Guess the secret animal: dog\n",
      "Guess the secret animal: cat\n",
      "Guess the secret animal: goat\n",
      "Out of guesses, you lose!\n"
     ]
    }
   ],
   "source": [
    "secret_animal = \"cow\"\n",
    "guess=\"\"\n",
    "guess_count=0\n",
    "guess_limit=3\n",
    "out_of_guess=False\n",
    "while guess!=secret_animal and not(out_of_guess):\n",
    "    if guess_count<guess_limit:\n",
    "        guess=input(\"Guess the secret animal: \")\n",
    "        guess_count=guess_count+1\n",
    "    else:\n",
    "        out_of_guess=True\n",
    "if out_of_guess:\n",
    "    print(\"Out of guesses, you lose!\")\n",
    "else:\n",
    "    print(\"You win!!\")"
   ]
  },
  {
   "cell_type": "code",
   "execution_count": null,
   "metadata": {},
   "outputs": [],
   "source": []
  },
  {
   "cell_type": "code",
   "execution_count": null,
   "metadata": {},
   "outputs": [],
   "source": []
  }
 ],
 "metadata": {
  "kernelspec": {
   "display_name": "Python 3",
   "language": "python",
   "name": "python3"
  },
  "language_info": {
   "codemirror_mode": {
    "name": "ipython",
    "version": 3
   },
   "file_extension": ".py",
   "mimetype": "text/x-python",
   "name": "python",
   "nbconvert_exporter": "python",
   "pygments_lexer": "ipython3",
   "version": "3.7.4"
  }
 },
 "nbformat": 4,
 "nbformat_minor": 2
}
