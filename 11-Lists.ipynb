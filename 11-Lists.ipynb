{
 "cells": [
  {
   "cell_type": "code",
   "execution_count": 1,
   "metadata": {},
   "outputs": [
    {
     "name": "stdout",
     "output_type": "stream",
     "text": [
      "Hipo\n"
     ]
    }
   ],
   "source": [
    "animals = [\"Lion\", \"Tiger\", \"Hipo\"]\n",
    "print(animals[2])"
   ]
  },
  {
   "cell_type": "code",
   "execution_count": 7,
   "metadata": {},
   "outputs": [
    {
     "name": "stdout",
     "output_type": "stream",
     "text": [
      "['Tiger', 'Hipo', 'Monkey', 'Giraffe']\n",
      "['Tiger', 'Hipo']\n",
      "['Lion', 'Tiger', 'Hipo']\n",
      "Giraffe\n",
      "Monkey\n"
     ]
    }
   ],
   "source": [
    "animals = [\"Lion\", \"Tiger\", \"Hipo\", \"Monkey\", \"Giraffe\"]\n",
    "print(animals[1:])\n",
    "print(animals[1:3])\n",
    "print(animals[0:3])\n",
    "print(animals[-1])\n",
    "print(animals[-2])"
   ]
  },
  {
   "cell_type": "code",
   "execution_count": 9,
   "metadata": {},
   "outputs": [
    {
     "name": "stdout",
     "output_type": "stream",
     "text": [
      "Hipo\n",
      "Rhino\n"
     ]
    }
   ],
   "source": [
    "animals = [\"Lion\", \"Tiger\", \"Hipo\", \"Monkey\", \"Giraffe\"]\n",
    "print(animals[2])\n",
    "animals[2]=\"Rhino\"\n",
    "print(animals[2])"
   ]
  },
  {
   "cell_type": "code",
   "execution_count": null,
   "metadata": {},
   "outputs": [],
   "source": []
  }
 ],
 "metadata": {
  "kernelspec": {
   "display_name": "Python 3",
   "language": "python",
   "name": "python3"
  },
  "language_info": {
   "codemirror_mode": {
    "name": "ipython",
    "version": 3
   },
   "file_extension": ".py",
   "mimetype": "text/x-python",
   "name": "python",
   "nbconvert_exporter": "python",
   "pygments_lexer": "ipython3",
   "version": "3.7.4"
  }
 },
 "nbformat": 4,
 "nbformat_minor": 2
}
